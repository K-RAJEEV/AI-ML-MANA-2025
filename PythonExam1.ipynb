{
  "nbformat": 4,
  "nbformat_minor": 0,
  "metadata": {
    "colab": {
      "provenance": [],
      "authorship_tag": "ABX9TyPuDByBtxfSdpGtGAHCa8qo",
      "include_colab_link": true
    },
    "kernelspec": {
      "name": "python3",
      "display_name": "Python 3"
    },
    "language_info": {
      "name": "python"
    }
  },
  "cells": [
    {
      "cell_type": "markdown",
      "metadata": {
        "id": "view-in-github",
        "colab_type": "text"
      },
      "source": [
        "<a href=\"https://colab.research.google.com/github/K-RAJEEV/AI-ML-MANA-2025/blob/main/PythonExam1.ipynb\" target=\"_parent\"><img src=\"https://colab.research.google.com/assets/colab-badge.svg\" alt=\"Open In Colab\"/></a>"
      ]
    },
    {
      "cell_type": "markdown",
      "source": [
        "1)\tA financial analyst stores monthly revenues in a list: [120000, 135000, 128000, 142000, 150000]. Find the difference between the highest and lowest revenue without using loops"
      ],
      "metadata": {
        "id": "xPTrJE7fX5-3"
      }
    },
    {
      "cell_type": "code",
      "source": [
        "l1= [20000, 135000, 128000, 142000, 150000]\n",
        "l1.sort()\n",
        "outval=l1[-1]-l1[0]\n",
        "print(outval)\n"
      ],
      "metadata": {
        "colab": {
          "base_uri": "https://localhost:8080/"
        },
        "id": "zx-VqPH2YIay",
        "outputId": "bde90561-5a05-4a48-ad92-9228b9ccb279"
      },
      "execution_count": 2,
      "outputs": [
        {
          "output_type": "stream",
          "name": "stdout",
          "text": [
            "130000\n"
          ]
        }
      ]
    },
    {
      "cell_type": "markdown",
      "source": [
        "2)\tGiven the tuple account = ('Asha', 'Savings', 56000, 'KCH'), unpack the values into separate variables and print a formatted string: 'Asha has ₹56000 in her Savings account (Branch: KCH)'."
      ],
      "metadata": {
        "id": "Qy7vuOryYOf_"
      }
    },
    {
      "cell_type": "code",
      "source": [
        "t1= ('Asha', 'Savings', '56000', 'KCH')\n",
        "print(t1[0] +' '+'has'+ ' '+t1[2] +' In her '+t1[1] +' '+'Account (Branch:'+t1[3] +')')\n"
      ],
      "metadata": {
        "colab": {
          "base_uri": "https://localhost:8080/"
        },
        "id": "joHwekYyYSF0",
        "outputId": "257006ed-d595-449d-abd4-2f12644c5c05"
      },
      "execution_count": 3,
      "outputs": [
        {
          "output_type": "stream",
          "name": "stdout",
          "text": [
            "Asha has 56000 In her Savings Account (Branch:KCH)\n"
          ]
        }
      ]
    },
    {
      "cell_type": "markdown",
      "source": [
        "3. Convert the list of string numbers ['45000', '56000', '38000'] to  \n",
        "   integers and find their average balance\n",
        "\n"
      ],
      "metadata": {
        "id": "nJ363xWEYawn"
      }
    },
    {
      "cell_type": "code",
      "source": [
        "l1 = ['45000', '56000', '38000']\n",
        "intnum=[int(num) for num in l1]\n",
        "print (intnum)\n"
      ],
      "metadata": {
        "colab": {
          "base_uri": "https://localhost:8080/"
        },
        "id": "y9gCNqBAY05Q",
        "outputId": "a5325a21-a752-41b9-84f5-bde7e52a66f7"
      },
      "execution_count": 4,
      "outputs": [
        {
          "output_type": "stream",
          "name": "stdout",
          "text": [
            "[45000, 56000, 38000]\n"
          ]
        }
      ]
    },
    {
      "cell_type": "markdown",
      "source": [
        "4. Create a list with elements:\n",
        "   ['Kochi', 'Chennai', 'Mumbai', 'Delhi','Pune'].Replace 'Delhi' with 'Hyderabad' and print the new list in reverse order using slicing.\n"
      ],
      "metadata": {
        "id": "slTgm4egY7OG"
      }
    },
    {
      "cell_type": "code",
      "source": [
        "flist=['Kochi', 'Chennai', 'Mumbai', 'Delhi', 'Pune']\n",
        "nlist=[s.replace('Delhi','Hyderabad') for s in flist]\n",
        "print(nlist)\n"
      ],
      "metadata": {
        "colab": {
          "base_uri": "https://localhost:8080/"
        },
        "id": "8QHxKqp_ZhiO",
        "outputId": "2cacbe25-a8c6-4436-8a80-aa590c7150b3"
      },
      "execution_count": 5,
      "outputs": [
        {
          "output_type": "stream",
          "name": "stdout",
          "text": [
            "['Kochi', 'Chennai', 'Mumbai', 'Hyderabad', 'Pune']\n"
          ]
        }
      ]
    },
    {
      "cell_type": "markdown",
      "source": [
        "5. You have two tuples:\n",
        "   interest_2024 = (7.1, 7.3, 7.2) and interest_2025 = (7.4, 7.5)\n",
        "   Combine them and print the average of all interest rates\n"
      ],
      "metadata": {
        "id": "F2fiKTukZn4j"
      }
    },
    {
      "cell_type": "code",
      "source": [
        "interest_2024 = (7.1, 7.3, 7.2)\n",
        "interest_2025 = (7.4, 7.5)\n",
        "newtup=interest_2024+interest_2025\n",
        "newtup1=(sum(newtup))\n",
        "newtup2 = len(newtup)\n",
        "newtup3=newtup1/newtup2\n",
        "print(newtup3)"
      ],
      "metadata": {
        "colab": {
          "base_uri": "https://localhost:8080/"
        },
        "id": "6MA5wK4MZx_g",
        "outputId": "e3eadefc-6096-42bb-cb07-88226686cdbb"
      },
      "execution_count": 6,
      "outputs": [
        {
          "output_type": "stream",
          "name": "stdout",
          "text": [
            "7.3\n"
          ]
        }
      ]
    },
    {
      "cell_type": "markdown",
      "source": [
        "6. A string variable branch_id = 'TVM-FIN-2025'.Extract the branch code  \n",
        "  (first three letters) and the year (last four digits).\n"
      ],
      "metadata": {
        "id": "nAHbqBbkZ9h-"
      }
    },
    {
      "cell_type": "code",
      "source": [
        "branch_id = 'TVM-FIN-2025'\n",
        "Newbranch_id=branch_id[:3]+'-'+branch_id[-4:]\n",
        "print(Newbranch_id)\n"
      ],
      "metadata": {
        "colab": {
          "base_uri": "https://localhost:8080/"
        },
        "id": "V2liEPOPaF-H",
        "outputId": "67b33633-c8b8-4628-a777-9c8e4b1be1e5"
      },
      "execution_count": 8,
      "outputs": [
        {
          "output_type": "stream",
          "name": "stdout",
          "text": [
            "TVM-2025\n"
          ]
        }
      ]
    },
    {
      "cell_type": "markdown",
      "source": [
        "7. Create a list transactions = [10000, -2000, 5000, -1500, 3000]. Without using loops, find total deposits and withdrawals using list slicing or indexing only"
      ],
      "metadata": {
        "id": "L9r6yoH3bIx2"
      }
    },
    {
      "cell_type": "code",
      "source": [
        "Ltrans = [10000, -2000, 5000, -1500, 3000]\n",
        "\n",
        "print(f\"Total deposits: {sum(Ltrans[::2])}\")\n",
        "print(f\"Total withdrawals: {sum(Ltrans[1::2])}\")"
      ],
      "metadata": {
        "colab": {
          "base_uri": "https://localhost:8080/"
        },
        "id": "az0hPQehbSaG",
        "outputId": "429d88c4-70c6-44c4-adda-ea59eb34e828"
      },
      "execution_count": 9,
      "outputs": [
        {
          "output_type": "stream",
          "name": "stdout",
          "text": [
            "Total deposits: 18000\n",
            "Total withdrawals: -3500\n"
          ]
        }
      ]
    },
    {
      "cell_type": "markdown",
      "source": [
        "8. Given name = 'John Doe' and balance = 72500, print a message in title case stating 'John Doe has a balance of ₹72500'. Ensure no type errors occur"
      ],
      "metadata": {
        "id": "4znqmd37bi4O"
      }
    },
    {
      "cell_type": "code",
      "source": [
        "name = 'john doe'\n",
        "balance = 72500\n",
        "print(f\"{name.title()} has a balance of ₹{balance}\")"
      ],
      "metadata": {
        "colab": {
          "base_uri": "https://localhost:8080/"
        },
        "id": "U1NSPNdbbmx2",
        "outputId": "1f42b74e-b65a-41bf-c316-afc595f803d5"
      },
      "execution_count": 10,
      "outputs": [
        {
          "output_type": "stream",
          "name": "stdout",
          "text": [
            "John Doe has a balance of ₹72500\n"
          ]
        }
      ]
    },
    {
      "cell_type": "markdown",
      "source": [
        "9. A tuple customer = ('Kiran', 'Loan', 80000, 7.5). Calculate and print the total amount payable after 1 year if interest is simple interest based on rate 7.5%"
      ],
      "metadata": {
        "id": "32f6m9I1bsyl"
      }
    },
    {
      "cell_type": "code",
      "source": [
        "Tcust = ('Kiran', 'Loan', 80000, 7.5)\n",
        "interest = (Tcust[2] * Tcust[3] * 1) / 100\n",
        "print(f\"Total amount payable after 1 year: {Tcust[2] + interest}\")"
      ],
      "metadata": {
        "colab": {
          "base_uri": "https://localhost:8080/"
        },
        "id": "gnS3AevwbvLu",
        "outputId": "199402d4-9db5-423b-87cf-e2a758749e50"
      },
      "execution_count": 12,
      "outputs": [
        {
          "output_type": "stream",
          "name": "stdout",
          "text": [
            "Total amount payable after 1 year: 86000.0\n"
          ]
        }
      ]
    },
    {
      "cell_type": "markdown",
      "source": [
        "10. Create two lists – branches = ['Kochi', 'Chennai', 'Mumbai'] and profits = [120000, 95000, 134000]. Form a new list of tuples pairing each branch with its profit."
      ],
      "metadata": {
        "id": "noN2iPN3b2gZ"
      }
    },
    {
      "cell_type": "code",
      "source": [
        "branches = ['Kochi', 'Chennai', 'Mumbai']\n",
        "profits = [120000, 95000, 134000]\n",
        "print(f\"{(branches[0],profits[0]),(branches[1], profits[1]),(branches[2], profits[2])}\")"
      ],
      "metadata": {
        "colab": {
          "base_uri": "https://localhost:8080/"
        },
        "id": "fthxZ5spb5ll",
        "outputId": "a48f95f8-ed21-4cbe-a12d-db5252b1168a"
      },
      "execution_count": 13,
      "outputs": [
        {
          "output_type": "stream",
          "name": "stdout",
          "text": [
            "(('Kochi', 120000), ('Chennai', 95000), ('Mumbai', 134000))\n"
          ]
        }
      ]
    },
    {
      "cell_type": "markdown",
      "source": [
        "11. From a list salaries = [45000, 56000, 38000, 62000, 54000], extract the top three salaries using slicing only."
      ],
      "metadata": {
        "id": "uEJr1Hz4b8ve"
      }
    },
    {
      "cell_type": "code",
      "source": [
        "salaries = [45000, 56000, 38000, 62000, 54000]\n",
        "salaries.sort()\n",
        "print(salaries)\n",
        "print(f\"{salaries[-1],salaries[-2],salaries[-3]}\")"
      ],
      "metadata": {
        "colab": {
          "base_uri": "https://localhost:8080/"
        },
        "id": "Opcm3J1Pb_fN",
        "outputId": "c166d1a9-e400-44a7-a99e-247a16e8f117"
      },
      "execution_count": 14,
      "outputs": [
        {
          "output_type": "stream",
          "name": "stdout",
          "text": [
            "[38000, 45000, 54000, 56000, 62000]\n",
            "(62000, 56000, 54000)\n"
          ]
        }
      ]
    },
    {
      "cell_type": "markdown",
      "source": [
        "12. Given the tuple exchange_rates = (83.2, 83.1, 83.5, 83.0, 82.9), convert it into a list and change the third value to 84.0."
      ],
      "metadata": {
        "id": "6Wa6g0I3cB2d"
      }
    },
    {
      "cell_type": "code",
      "source": [
        "exchange_rates = (83.2, 83.1, 83.5, 83.0, 82.9)\n",
        "exchange_rates = list(exchange_rates)\n",
        "exchange_rates[2] = 84.0\n",
        "print(exchange_rates)"
      ],
      "metadata": {
        "colab": {
          "base_uri": "https://localhost:8080/"
        },
        "id": "LQ2jIHVecFQG",
        "outputId": "54bef1ce-2489-43bb-bc2e-3455004942fd"
      },
      "execution_count": 15,
      "outputs": [
        {
          "output_type": "stream",
          "name": "stdout",
          "text": [
            "[83.2, 83.1, 84.0, 83.0, 82.9]\n"
          ]
        }
      ]
    },
    {
      "cell_type": "markdown",
      "source": [
        "13. Combine two lists customer_names = ['Asha', 'John', 'Meera'] and balances = [56000, 72000, 65000] into a formatted string such as 'Asha:56000, John:72000, Meera:65000' without loops."
      ],
      "metadata": {
        "id": "z-F2B3ZxcHum"
      }
    },
    {
      "cell_type": "code",
      "source": [
        "customer_names = ['Asha', 'John', 'Meera']\n",
        "balances = [56000, 72000, 65000]\n",
        "print(f\"{customer_names [0]}:{balances[0]}, {customer_names [1]}:{balances[1]}, {customer_names [2]}:{balances[2]}\")"
      ],
      "metadata": {
        "colab": {
          "base_uri": "https://localhost:8080/"
        },
        "id": "fVi-c5L0cKPd",
        "outputId": "c0a1d508-aed9-468a-f625-5178cc540335"
      },
      "execution_count": 16,
      "outputs": [
        {
          "output_type": "stream",
          "name": "stdout",
          "text": [
            "Asha:56000, John:72000, Meera:65000\n"
          ]
        }
      ]
    },
    {
      "cell_type": "markdown",
      "source": [
        "14. Given account_info = (Deepa, 'Savings', 98000), use string formatting to print a sentence 'Account Holder Deepz has ₹98000 in Savings account'."
      ],
      "metadata": {
        "id": "femFmNACcM6F"
      }
    },
    {
      "cell_type": "code",
      "source": [
        "account_info = ('Deepa', 'Savings', 98000)\n",
        "print(f\"Account Holder {account_info[0]} has ₹{account_info[2]} in {account_info[1]} account\")"
      ],
      "metadata": {
        "colab": {
          "base_uri": "https://localhost:8080/"
        },
        "id": "azPzasOUcPje",
        "outputId": "d04faf97-da17-4adb-9cec-73124845d226"
      },
      "execution_count": 17,
      "outputs": [
        {
          "output_type": "stream",
          "name": "stdout",
          "text": [
            "Account Holder Deepa has ₹98000 in Savings account\n"
          ]
        }
      ]
    },
    {
      "cell_type": "markdown",
      "source": [
        "15. Create a nested list storing branch names and their monthly collections: [['Kochi', [120000, 135000]], ['Chennai', [95000, 110000]]]. Print only the collection of Chennai branch without using loops."
      ],
      "metadata": {
        "id": "erRc8PzrcR6f"
      }
    },
    {
      "cell_type": "code",
      "source": [
        "monthly_collections= [['Kochi', [120000, 135000]], ['Chennai', [95000, 110000]]]\n",
        "colec = monthly_collections[1][1]\n",
        "print(f'Chennai Branch Collection : {colec}')"
      ],
      "metadata": {
        "colab": {
          "base_uri": "https://localhost:8080/"
        },
        "id": "XzcIiQ7pcUJG",
        "outputId": "6e16e239-78c8-496d-d7aa-116ba01065d9"
      },
      "execution_count": 18,
      "outputs": [
        {
          "output_type": "stream",
          "name": "stdout",
          "text": [
            "Chennai Branch Collection : [95000, 110000]\n"
          ]
        }
      ]
    }
  ]
}